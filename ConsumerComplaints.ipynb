{
 "cells": [
  {
   "cell_type": "markdown",
   "metadata": {},
   "source": [
    "# Consumer Complaints"
   ]
  },
  {
   "cell_type": "code",
   "execution_count": 28,
   "metadata": {
    "collapsed": false
   },
   "outputs": [
    {
     "name": "stdout",
     "output_type": "stream",
     "text": [
      "Using matplotlib backend: Qt5Agg\n",
      "Populating the interactive namespace from numpy and matplotlib\n"
     ]
    }
   ],
   "source": [
    "# Import statements\n",
    "import pandas as pd\n",
    "import matplotlib.pyplot as plt\n",
    "%pylab\n",
    "plt.style.use('ggplot')"
   ]
  },
  {
   "cell_type": "code",
   "execution_count": 29,
   "metadata": {
    "collapsed": false
   },
   "outputs": [],
   "source": [
    "#Reading CSV file\n",
    "consumerData = pd.read_csv('Consumer_Complaints.csv', dtype = object)"
   ]
  },
  {
   "cell_type": "markdown",
   "metadata": {},
   "source": [
    "### Bar Chart for Product"
   ]
  },
  {
   "cell_type": "code",
   "execution_count": 30,
   "metadata": {
    "collapsed": false
   },
   "outputs": [],
   "source": [
    "productFreq = consumerData['Product'].value_counts().sort_values()"
   ]
  },
  {
   "cell_type": "code",
   "execution_count": 31,
   "metadata": {
    "collapsed": false
   },
   "outputs": [],
   "source": [
    "#Bar chart for product count values greater than mean value\n",
    "#ax=productFreq[productFreq >= productFreq.mean()].plot(kind = 'bar',figsize = (15, 10), legend = True, fontsize = 12)\n",
    "#ax.set_xlabel(\"Complaints\", fontsize = 18)\n",
    "#ax.set_ylabel(\"No of Complaints\", fontsize = 18)\n",
    "plot_data = productFreq[productFreq >= productFreq.mean()]\n",
    "ax = plot_data.plot(kind = 'bar', title='Frequency of the products', colormap='Spectral',\n",
    "               figsize = (15,10),legend = True, fontsize = 12)\n",
    "legend = ax.legend()\n",
    "legend.draggable(state=True)\n",
    "ax.set_xlabel(\"Product\",fontsize = 18)\n",
    "ax.set_ylabel(\"Product Frequency\",fontsize = 18)\n",
    "plt.show()"
   ]
  },
  {
   "cell_type": "code",
   "execution_count": 32,
   "metadata": {
    "collapsed": false
   },
   "outputs": [],
   "source": [
    "#Bar chart for product count values less than mean value\n",
    "ax=productFreq[productFreq <= productFreq.mean()].plot(kind = 'bar',figsize = (15, 10), legend = True, fontsize = 12)\n",
    "ax.set_xlabel(\"Complaints\", fontsize = 18)\n",
    "ax.set_ylabel(\"No of Complaints\", fontsize = 18)\n",
    "plt.show()"
   ]
  },
  {
   "cell_type": "code",
   "execution_count": 33,
   "metadata": {
    "collapsed": false
   },
   "outputs": [],
   "source": [
    "#df['DateProcessed'] = pd.to_datetime(df['Date received'])"
   ]
  },
  {
   "cell_type": "code",
   "execution_count": 34,
   "metadata": {
    "collapsed": false
   },
   "outputs": [],
   "source": [
    "consumerData['year'] = consumerData['Date received'].str.slice(6, )"
   ]
  },
  {
   "cell_type": "markdown",
   "metadata": {},
   "source": [
    "### Bar Chart for Product for period 2013-2015"
   ]
  },
  {
   "cell_type": "code",
   "execution_count": 35,
   "metadata": {
    "collapsed": false
   },
   "outputs": [],
   "source": [
    "yearCounts=consumerData[(consumerData.year >= '2013') & (consumerData.year <= '2015')]['Product'].value_counts()"
   ]
  },
  {
   "cell_type": "code",
   "execution_count": 36,
   "metadata": {
    "collapsed": false
   },
   "outputs": [],
   "source": [
    "#Bar chart for product count values greater than mean value\n",
    "ax=yearCounts[yearCounts >= yearCounts.mean()].plot(kind = 'bar',figsize = (15, 10), legend = True, fontsize = 12)\n",
    "ax.set_xlabel(\"Complaints\", fontsize = 18)\n",
    "ax.set_ylabel(\"No of Complaints\", fontsize = 18)\n",
    "plt.show()"
   ]
  },
  {
   "cell_type": "code",
   "execution_count": 37,
   "metadata": {
    "collapsed": false
   },
   "outputs": [],
   "source": [
    "#Bar chart for product count values less than mean value\n",
    "ax=yearCounts[yearCounts < yearCounts.mean()].plot(kind = 'bar',figsize = (15, 10) , legend = True, fontsize = 12)\n",
    "ax.set_xlabel(\"Complaints\", fontsize = 18)\n",
    "ax.set_ylabel(\"No of Complaints\", fontsize = 18)\n",
    "plt.show()"
   ]
  },
  {
   "cell_type": "code",
   "execution_count": 38,
   "metadata": {
    "collapsed": false
   },
   "outputs": [],
   "source": [
    "#Finding the top 15 companies with maximum complaints\n",
    "countdf = pd.DataFrame(consumerData.groupby(['Company']).count()['Complaint ID'])\n",
    "worst_companies = countdf.sort_values('Complaint ID', ascending=False).iloc[:15]"
   ]
  },
  {
   "cell_type": "markdown",
   "metadata": {},
   "source": [
    "## Plot for 15 worst performing companies"
   ]
  },
  {
   "cell_type": "code",
   "execution_count": 39,
   "metadata": {
    "collapsed": false
   },
   "outputs": [
    {
     "data": {
      "text/plain": [
       "<matplotlib.axes._subplots.AxesSubplot at 0x7f2ad1ebcd50>"
      ]
     },
     "execution_count": 39,
     "metadata": {},
     "output_type": "execute_result"
    }
   ],
   "source": [
    "worst_companies.plot(kind = 'bar')"
   ]
  },
  {
   "cell_type": "code",
   "execution_count": 40,
   "metadata": {
    "collapsed": false
   },
   "outputs": [],
   "source": [
    "#Finding top 15 states with maximum complaints\n",
    "countdf = pd.DataFrame(consumerData.groupby(['State']).count()['Complaint ID'])\n",
    "worst_states = countdf.sort_values('Complaint ID', ascending = False).iloc[:15]"
   ]
  },
  {
   "cell_type": "markdown",
   "metadata": {},
   "source": [
    "## Plot for 15 worst performing states"
   ]
  },
  {
   "cell_type": "code",
   "execution_count": 41,
   "metadata": {
    "collapsed": false
   },
   "outputs": [
    {
     "data": {
      "text/plain": [
       "<matplotlib.axes._subplots.AxesSubplot at 0x7f2ac2aa3550>"
      ]
     },
     "execution_count": 41,
     "metadata": {},
     "output_type": "execute_result"
    }
   ],
   "source": [
    "worst_states.plot(kind = 'bar')"
   ]
  },
  {
   "cell_type": "markdown",
   "metadata": {},
   "source": [
    "## Plot for worst performing companies for each state  "
   ]
  },
  {
   "cell_type": "code",
   "execution_count": 42,
   "metadata": {
    "collapsed": false
   },
   "outputs": [
    {
     "data": {
      "text/html": [
       "<div>\n",
       "<table border=\"1\" class=\"dataframe\">\n",
       "  <thead>\n",
       "    <tr style=\"text-align: right;\">\n",
       "      <th>State</th>\n",
       "      <th>AA</th>\n",
       "      <th>AE</th>\n",
       "      <th>AK</th>\n",
       "      <th>AL</th>\n",
       "      <th>AP</th>\n",
       "      <th>AR</th>\n",
       "      <th>AS</th>\n",
       "      <th>AZ</th>\n",
       "      <th>CA</th>\n",
       "      <th>CO</th>\n",
       "      <th>...</th>\n",
       "      <th>TN</th>\n",
       "      <th>TX</th>\n",
       "      <th>UT</th>\n",
       "      <th>VA</th>\n",
       "      <th>VI</th>\n",
       "      <th>VT</th>\n",
       "      <th>WA</th>\n",
       "      <th>WI</th>\n",
       "      <th>WV</th>\n",
       "      <th>WY</th>\n",
       "    </tr>\n",
       "    <tr>\n",
       "      <th>Company</th>\n",
       "      <th></th>\n",
       "      <th></th>\n",
       "      <th></th>\n",
       "      <th></th>\n",
       "      <th></th>\n",
       "      <th></th>\n",
       "      <th></th>\n",
       "      <th></th>\n",
       "      <th></th>\n",
       "      <th></th>\n",
       "      <th></th>\n",
       "      <th></th>\n",
       "      <th></th>\n",
       "      <th></th>\n",
       "      <th></th>\n",
       "      <th></th>\n",
       "      <th></th>\n",
       "      <th></th>\n",
       "      <th></th>\n",
       "      <th></th>\n",
       "      <th></th>\n",
       "    </tr>\n",
       "  </thead>\n",
       "  <tbody>\n",
       "    <tr>\n",
       "      <th>(Former)Shapiro, Swertfeger &amp; Hasty, LLP</th>\n",
       "      <td>0.0</td>\n",
       "      <td>0.0</td>\n",
       "      <td>0.0</td>\n",
       "      <td>0.0</td>\n",
       "      <td>0.0</td>\n",
       "      <td>0.0</td>\n",
       "      <td>0.0</td>\n",
       "      <td>0.0</td>\n",
       "      <td>0.0</td>\n",
       "      <td>0.0</td>\n",
       "      <td>...</td>\n",
       "      <td>0.0</td>\n",
       "      <td>0.0</td>\n",
       "      <td>0.0</td>\n",
       "      <td>0.0</td>\n",
       "      <td>0.0</td>\n",
       "      <td>0.0</td>\n",
       "      <td>0.0</td>\n",
       "      <td>0.0</td>\n",
       "      <td>0.0</td>\n",
       "      <td>0.0</td>\n",
       "    </tr>\n",
       "    <tr>\n",
       "      <th>1 Stop Money Centers, LLC</th>\n",
       "      <td>0.0</td>\n",
       "      <td>0.0</td>\n",
       "      <td>0.0</td>\n",
       "      <td>0.0</td>\n",
       "      <td>0.0</td>\n",
       "      <td>0.0</td>\n",
       "      <td>0.0</td>\n",
       "      <td>1.0</td>\n",
       "      <td>0.0</td>\n",
       "      <td>0.0</td>\n",
       "      <td>...</td>\n",
       "      <td>0.0</td>\n",
       "      <td>0.0</td>\n",
       "      <td>0.0</td>\n",
       "      <td>0.0</td>\n",
       "      <td>0.0</td>\n",
       "      <td>0.0</td>\n",
       "      <td>0.0</td>\n",
       "      <td>0.0</td>\n",
       "      <td>0.0</td>\n",
       "      <td>0.0</td>\n",
       "    </tr>\n",
       "    <tr>\n",
       "      <th>1st 2nd Mortgage Company Of NJ, Inc.</th>\n",
       "      <td>0.0</td>\n",
       "      <td>0.0</td>\n",
       "      <td>0.0</td>\n",
       "      <td>0.0</td>\n",
       "      <td>0.0</td>\n",
       "      <td>0.0</td>\n",
       "      <td>0.0</td>\n",
       "      <td>0.0</td>\n",
       "      <td>0.0</td>\n",
       "      <td>0.0</td>\n",
       "      <td>...</td>\n",
       "      <td>0.0</td>\n",
       "      <td>0.0</td>\n",
       "      <td>0.0</td>\n",
       "      <td>0.0</td>\n",
       "      <td>0.0</td>\n",
       "      <td>0.0</td>\n",
       "      <td>0.0</td>\n",
       "      <td>0.0</td>\n",
       "      <td>0.0</td>\n",
       "      <td>0.0</td>\n",
       "    </tr>\n",
       "    <tr>\n",
       "      <th>1st Alliance Lending</th>\n",
       "      <td>0.0</td>\n",
       "      <td>0.0</td>\n",
       "      <td>0.0</td>\n",
       "      <td>2.0</td>\n",
       "      <td>0.0</td>\n",
       "      <td>0.0</td>\n",
       "      <td>0.0</td>\n",
       "      <td>0.0</td>\n",
       "      <td>2.0</td>\n",
       "      <td>0.0</td>\n",
       "      <td>...</td>\n",
       "      <td>0.0</td>\n",
       "      <td>1.0</td>\n",
       "      <td>0.0</td>\n",
       "      <td>2.0</td>\n",
       "      <td>0.0</td>\n",
       "      <td>0.0</td>\n",
       "      <td>0.0</td>\n",
       "      <td>0.0</td>\n",
       "      <td>0.0</td>\n",
       "      <td>0.0</td>\n",
       "    </tr>\n",
       "    <tr>\n",
       "      <th>1st Capital Finance of South Carolina, Inc.</th>\n",
       "      <td>0.0</td>\n",
       "      <td>0.0</td>\n",
       "      <td>0.0</td>\n",
       "      <td>0.0</td>\n",
       "      <td>0.0</td>\n",
       "      <td>0.0</td>\n",
       "      <td>0.0</td>\n",
       "      <td>0.0</td>\n",
       "      <td>0.0</td>\n",
       "      <td>0.0</td>\n",
       "      <td>...</td>\n",
       "      <td>0.0</td>\n",
       "      <td>0.0</td>\n",
       "      <td>0.0</td>\n",
       "      <td>0.0</td>\n",
       "      <td>0.0</td>\n",
       "      <td>0.0</td>\n",
       "      <td>0.0</td>\n",
       "      <td>0.0</td>\n",
       "      <td>0.0</td>\n",
       "      <td>0.0</td>\n",
       "    </tr>\n",
       "  </tbody>\n",
       "</table>\n",
       "<p>5 rows × 62 columns</p>\n",
       "</div>"
      ],
      "text/plain": [
       "State                                         AA   AE   AK   AL   AP   AR  \\\n",
       "Company                                                                     \n",
       "(Former)Shapiro, Swertfeger & Hasty, LLP     0.0  0.0  0.0  0.0  0.0  0.0   \n",
       "1 Stop Money Centers, LLC                    0.0  0.0  0.0  0.0  0.0  0.0   \n",
       "1st 2nd Mortgage Company Of NJ, Inc.         0.0  0.0  0.0  0.0  0.0  0.0   \n",
       "1st Alliance Lending                         0.0  0.0  0.0  2.0  0.0  0.0   \n",
       "1st Capital Finance of South Carolina, Inc.  0.0  0.0  0.0  0.0  0.0  0.0   \n",
       "\n",
       "State                                         AS   AZ   CA   CO ...    TN  \\\n",
       "Company                                                         ...         \n",
       "(Former)Shapiro, Swertfeger & Hasty, LLP     0.0  0.0  0.0  0.0 ...   0.0   \n",
       "1 Stop Money Centers, LLC                    0.0  1.0  0.0  0.0 ...   0.0   \n",
       "1st 2nd Mortgage Company Of NJ, Inc.         0.0  0.0  0.0  0.0 ...   0.0   \n",
       "1st Alliance Lending                         0.0  0.0  2.0  0.0 ...   0.0   \n",
       "1st Capital Finance of South Carolina, Inc.  0.0  0.0  0.0  0.0 ...   0.0   \n",
       "\n",
       "State                                         TX   UT   VA   VI   VT   WA  \\\n",
       "Company                                                                     \n",
       "(Former)Shapiro, Swertfeger & Hasty, LLP     0.0  0.0  0.0  0.0  0.0  0.0   \n",
       "1 Stop Money Centers, LLC                    0.0  0.0  0.0  0.0  0.0  0.0   \n",
       "1st 2nd Mortgage Company Of NJ, Inc.         0.0  0.0  0.0  0.0  0.0  0.0   \n",
       "1st Alliance Lending                         1.0  0.0  2.0  0.0  0.0  0.0   \n",
       "1st Capital Finance of South Carolina, Inc.  0.0  0.0  0.0  0.0  0.0  0.0   \n",
       "\n",
       "State                                         WI   WV   WY  \n",
       "Company                                                     \n",
       "(Former)Shapiro, Swertfeger & Hasty, LLP     0.0  0.0  0.0  \n",
       "1 Stop Money Centers, LLC                    0.0  0.0  0.0  \n",
       "1st 2nd Mortgage Company Of NJ, Inc.         0.0  0.0  0.0  \n",
       "1st Alliance Lending                         0.0  0.0  0.0  \n",
       "1st Capital Finance of South Carolina, Inc.  0.0  0.0  0.0  \n",
       "\n",
       "[5 rows x 62 columns]"
      ]
     },
     "execution_count": 42,
     "metadata": {},
     "output_type": "execute_result"
    }
   ],
   "source": [
    "x.head()"
   ]
  },
  {
   "cell_type": "code",
   "execution_count": 50,
   "metadata": {
    "collapsed": false
   },
   "outputs": [],
   "source": [
    "new=pd.DataFrame()\n",
    "x = consumerData.groupby(['State', 'Company']).count()['Complaint ID'].unstack().fillna(0)\n",
    "x = x.transpose()\n",
    "for row in x:\n",
    "    subdata=pd.DataFrame({'State':[row],'Company':[x[row].idxmax()],'ComplaintNo':[x[row].max()]})\n",
    "    new=new.append(subdata)\n",
    "ax = new.set_index(['State','Company']).unstack().fillna(0).head().plot(kind='bar')\n",
    "ax.legend(new['Company'])\n",
    "plt.show()"
   ]
  },
  {
   "cell_type": "markdown",
   "metadata": {},
   "source": [
    "## States of worst performing companies"
   ]
  },
  {
   "cell_type": "code",
   "execution_count": 46,
   "metadata": {
    "collapsed": false
   },
   "outputs": [],
   "source": [
    "plot_data = consumerData.groupby(['State', 'Company']).count()['Complaint ID'].sort_values(ascending=False).head(10).unstack().fillna(0)\n",
    "ax = plot_data.plot(kind = 'bar', stacked=True, title='States of worst performing companies', colormap='Spectral',\n",
    "               figsize = (15,10),legend = True, fontsize = 12)\n",
    "legend = ax.legend()\n",
    "legend.draggable(state=True)\n",
    "ax.set_xlabel(\"States\",fontsize = 18)\n",
    "ax.set_ylabel(\"Number of Complaints\",fontsize = 18)\n",
    "plt.show()\n"
   ]
  },
  {
   "cell_type": "code",
   "execution_count": null,
   "metadata": {
    "collapsed": true
   },
   "outputs": [],
   "source": []
  }
 ],
 "metadata": {
  "kernelspec": {
   "display_name": "Python 2",
   "language": "python",
   "name": "python2"
  },
  "language_info": {
   "codemirror_mode": {
    "name": "ipython",
    "version": 2
   },
   "file_extension": ".py",
   "mimetype": "text/x-python",
   "name": "python",
   "nbconvert_exporter": "python",
   "pygments_lexer": "ipython2",
   "version": "2.7.13"
  }
 },
 "nbformat": 4,
 "nbformat_minor": 2
}
